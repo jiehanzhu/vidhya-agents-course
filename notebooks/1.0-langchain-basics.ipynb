{
 "cells": [
  {
   "cell_type": "markdown",
   "metadata": {},
   "source": [
    "3 basic components:\n",
    "\n",
    "1. Model - abstractions over the LLMs apis\n",
    "2. Prompt Template - abstraction over the prompt sent to the model\n",
    "3. Output parser - abstraction to translate raw output from the model to workable format"
   ]
  },
  {
   "cell_type": "code",
   "metadata": {
    "ExecuteTime": {
     "end_time": "2024-10-21T21:11:39.885883Z",
     "start_time": "2024-10-21T21:11:39.882468Z"
    }
   },
   "source": "# !pip install -U langchain langchain-openai langchain-core",
   "outputs": [],
   "execution_count": 1
  },
  {
   "cell_type": "code",
   "metadata": {
    "ExecuteTime": {
     "end_time": "2024-10-21T21:11:39.933086Z",
     "start_time": "2024-10-21T21:11:39.925826Z"
    }
   },
   "source": [
    "from dotenv import load_dotenv\n",
    "\n",
    "load_dotenv()"
   ],
   "outputs": [
    {
     "data": {
      "text/plain": [
       "True"
      ]
     },
     "execution_count": 2,
     "metadata": {},
     "output_type": "execute_result"
    }
   ],
   "execution_count": 2
  },
  {
   "cell_type": "code",
   "metadata": {
    "ExecuteTime": {
     "end_time": "2024-10-21T21:11:40.648106Z",
     "start_time": "2024-10-21T21:11:40.008569Z"
    }
   },
   "source": [
    "from langchain_openai import ChatOpenAI"
   ],
   "outputs": [],
   "execution_count": 3
  },
  {
   "cell_type": "code",
   "metadata": {
    "ExecuteTime": {
     "end_time": "2024-10-21T21:11:43.500075Z",
     "start_time": "2024-10-21T21:11:40.654741Z"
    }
   },
   "source": [
    "llm = ChatOpenAI(model='gpt-4o-mini')\n",
    "\n",
    "llm.invoke(\n",
    "    \"Hi! I am teaching about langcahin! What are some of the basic components in LangChain? Answer with a few bullet points.\")"
   ],
   "outputs": [
    {
     "data": {
      "text/plain": [
       "AIMessage(content='LangChain is a framework designed to facilitate the development of applications that utilize language models. Here are some of the basic components of LangChain:\\n\\n- **Chains**: Sequences of calls to language models or other tools that can be composed to perform complex tasks.\\n\\n- **Prompts**: Templates used to structure inputs to language models, enabling better control over the output by providing context or specific instructions.\\n\\n- **Agents**: Components that can choose which actions to take based on user input or other criteria, often involving multiple tools or models.\\n\\n- **Memory**: Mechanisms to store and retrieve information from previous interactions, allowing for more contextually aware conversations.\\n\\n- **Tools**: Integrations with external APIs or services that can be called by agents or chains to perform specific tasks, such as web scraping or database queries.\\n\\n- **Document Loaders**: Utilities to ingest and preprocess documents or data sources, making them available for processing by language models.\\n\\n- **Retrievers**: Components that help fetch relevant information from a knowledge base or corpus to inform model responses.\\n\\nThese components can be combined in various ways to create sophisticated applications that leverage the capabilities of language models.', additional_kwargs={'refusal': None}, response_metadata={'token_usage': {'completion_tokens': 234, 'prompt_tokens': 35, 'total_tokens': 269, 'prompt_tokens_details': {'cached_tokens': 0}, 'completion_tokens_details': {'reasoning_tokens': 0}}, 'model_name': 'gpt-4o-mini-2024-07-18', 'system_fingerprint': 'fp_482c22a7bc', 'finish_reason': 'stop', 'logprobs': None}, id='run-d8327f9f-a054-4749-9731-6492711417c7-0', usage_metadata={'input_tokens': 35, 'output_tokens': 234, 'total_tokens': 269})"
      ]
     },
     "execution_count": 4,
     "metadata": {},
     "output_type": "execute_result"
    }
   ],
   "execution_count": 4
  },
  {
   "cell_type": "code",
   "metadata": {
    "ExecuteTime": {
     "end_time": "2024-10-21T21:11:43.509931Z",
     "start_time": "2024-10-21T21:11:43.507695Z"
    }
   },
   "source": [
    "from langchain_core.prompts import ChatPromptTemplate"
   ],
   "outputs": [],
   "execution_count": 5
  },
  {
   "cell_type": "code",
   "metadata": {
    "ExecuteTime": {
     "end_time": "2024-10-21T21:11:43.555306Z",
     "start_time": "2024-10-21T21:11:43.552486Z"
    }
   },
   "source": [
    "prompt = ChatPromptTemplate.from_template(\"Give me 5 examples of: {thing_to_give_examples_of}\")\n",
    "\n",
    "# prompt.format(thing_to_give_examples_of=\"basic components in LangChain\")"
   ],
   "outputs": [],
   "execution_count": 6
  },
  {
   "cell_type": "code",
   "metadata": {
    "ExecuteTime": {
     "end_time": "2024-10-21T21:11:43.600800Z",
     "start_time": "2024-10-21T21:11:43.598080Z"
    }
   },
   "source": [
    "basic_chain = prompt | llm"
   ],
   "outputs": [],
   "execution_count": 7
  },
  {
   "cell_type": "code",
   "metadata": {
    "ExecuteTime": {
     "end_time": "2024-10-21T21:11:48.068618Z",
     "start_time": "2024-10-21T21:11:43.645841Z"
    }
   },
   "source": [
    "basic_chain.invoke({\"thing_to_give_examples_of\": \"basic components in LangChain\"})"
   ],
   "outputs": [
    {
     "data": {
      "text/plain": [
       "AIMessage(content='LangChain is a framework designed to simplify the development of applications using language models. Here are five basic components often found in LangChain:\\n\\n1. **Linguistic Models**: These are the core language models (like GPT-3, GPT-4, etc.) that perform the natural language processing tasks. They can generate text, understand context, and perform various language-related functions.\\n\\n2. **Chains**: Chains are sequences of operations that can include multiple steps, such as combining prompts, performing transformations, and managing the flow of data between different components. They can be used to create complex workflows that leverage the capabilities of language models.\\n\\n3. **Agents**: Agents are components that can make decisions based on input and context. They can use language models to interpret user queries and decide which actions to take or which tools to invoke, enabling dynamic and context-aware interactions.\\n\\n4. **Memory**: This component allows applications to maintain context across interactions. Memory can store previous inputs and outputs, enabling the application to provide more coherent and contextually relevant responses over time.\\n\\n5. **Tools**: Tools are external services or APIs that can be integrated into LangChain applications. They can extend the functionality of language models by providing additional capabilities, such as data retrieval, computations, or interfacing with other software systems.\\n\\nThese components work together to create powerful and flexible applications leveraging the capabilities of language models.', additional_kwargs={'refusal': None}, response_metadata={'token_usage': {'completion_tokens': 280, 'prompt_tokens': 19, 'total_tokens': 299, 'prompt_tokens_details': {'cached_tokens': 0}, 'completion_tokens_details': {'reasoning_tokens': 0}}, 'model_name': 'gpt-4o-mini-2024-07-18', 'system_fingerprint': 'fp_482c22a7bc', 'finish_reason': 'stop', 'logprobs': None}, id='run-7007f246-dc05-459e-a27d-1b6eecf8aa0d-0', usage_metadata={'input_tokens': 19, 'output_tokens': 280, 'total_tokens': 299})"
      ]
     },
     "execution_count": 8,
     "metadata": {},
     "output_type": "execute_result"
    }
   ],
   "execution_count": 8
  },
  {
   "cell_type": "code",
   "metadata": {
    "ExecuteTime": {
     "end_time": "2024-10-21T21:11:48.147272Z",
     "start_time": "2024-10-21T21:11:48.144573Z"
    }
   },
   "source": [
    "from langchain_core.output_parsers import StrOutputParser\n",
    "from IPython.display import Markdown"
   ],
   "outputs": [],
   "execution_count": 9
  },
  {
   "metadata": {
    "ExecuteTime": {
     "end_time": "2024-10-21T21:11:48.193284Z",
     "start_time": "2024-10-21T21:11:48.190600Z"
    }
   },
   "cell_type": "code",
   "source": [
    "output_parser = StrOutputParser()\n",
    "\n",
    "complete_chain = prompt | llm | output_parser"
   ],
   "outputs": [],
   "execution_count": 10
  },
  {
   "metadata": {
    "ExecuteTime": {
     "end_time": "2024-10-21T21:11:53.389038Z",
     "start_time": "2024-10-21T21:11:48.237329Z"
    }
   },
   "cell_type": "code",
   "source": "Markdown(complete_chain.invoke({'thing_to_give_examples_of': 'Funny animals'}))",
   "outputs": [
    {
     "data": {
      "text/plain": [
       "<IPython.core.display.Markdown object>"
      ],
      "text/markdown": "Sure! Here are five examples of funny animals that often bring a smile or a laugh:\n\n1. **Cats in Boxes**: Cats have a hilarious tendency to squeeze themselves into boxes or small spaces, regardless of their size. Their determination and the awkward positions they get into can be quite comical.\n\n2. **Dogs with a \"Guilty\" Look**: Dogs often have expressive faces, and when they’ve done something they know they shouldn’t (like chewing a shoe), their guilty looks can be both funny and endearing.\n\n3. **Penguins Sliding on Ice**: Penguins are known for their waddling walk, but when they slide on their bellies across the ice, it looks both awkward and amusing, especially when they tumble or bump into each other.\n\n4. **Goats with \"Parkour\" Skills**: Goats are known for their ability to jump and climb on almost anything. Watching a goat jump onto a rock or a fence with a surprising amount of agility can be quite entertaining.\n\n5. **Parrots Mimicking Sounds**: Parrots have a knack for mimicking human sounds and other noises. Their ability to imitate laughter, phone rings, or even their owners’ voices can lead to hilarious moments.\n\nThese animals often provide endless entertainment with their quirky behaviors!"
     },
     "execution_count": 11,
     "metadata": {},
     "output_type": "execute_result"
    }
   ],
   "execution_count": 11
  },
  {
   "cell_type": "code",
   "metadata": {
    "ExecuteTime": {
     "end_time": "2024-10-21T21:11:57.074031Z",
     "start_time": "2024-10-21T21:11:53.398219Z"
    }
   },
   "source": "Markdown(complete_chain.invoke({'thing_to_give_examples_of': 'basic components in LangChain'}))",
   "outputs": [
    {
     "data": {
      "text/plain": [
       "<IPython.core.display.Markdown object>"
      ],
      "text/markdown": "LangChain is a framework designed to simplify the development of applications that utilize language models. Here are five basic components typically found in LangChain:\n\n1. **Models**: These are the core language models (like OpenAI's GPT-3, GPT-4, or other transformer-based models) used for generating text or understanding language. They serve as the backbone for processing and generating natural language.\n\n2. **Chains**: Chains are sequences of calls to different components or actions that are executed in a specific order. They can combine various functionalities, such as taking user input, processing it through a model, and returning the output.\n\n3. **Prompts**: Prompts are templates or structures used to guide the language model in generating responses. They can include instructions, context, or examples to help the model understand what kind of output is expected.\n\n4. **Agents**: Agents are components that can make decisions based on user input and the environment. They can dynamically choose which actions to take or which models to call based on the context, often using tools and other components to fulfill their tasks.\n\n5. **Memory**: Memory components allow the application to retain information across interactions or sessions. This can enhance user experience by enabling the model to remember past interactions, user preferences, or context, leading to more personalized and relevant responses.\n\nThese components work together to enable developers to create powerful applications that leverage the capabilities of language models in a more structured and efficient manner."
     },
     "execution_count": 12,
     "metadata": {},
     "output_type": "execute_result"
    }
   ],
   "execution_count": 12
  },
  {
   "cell_type": "code",
   "metadata": {
    "ExecuteTime": {
     "end_time": "2024-10-21T21:11:57.084510Z",
     "start_time": "2024-10-21T21:11:57.082713Z"
    }
   },
   "source": [],
   "outputs": [],
   "execution_count": null
  },
  {
   "cell_type": "code",
   "metadata": {
    "ExecuteTime": {
     "end_time": "2024-10-21T21:11:57.126031Z",
     "start_time": "2024-10-21T21:11:57.123884Z"
    }
   },
   "source": [],
   "outputs": [],
   "execution_count": null
  },
  {
   "cell_type": "code",
   "metadata": {
    "ExecuteTime": {
     "end_time": "2024-10-21T21:11:57.171806Z",
     "start_time": "2024-10-21T21:11:57.169529Z"
    }
   },
   "source": [],
   "outputs": [],
   "execution_count": null
  },
  {
   "cell_type": "code",
   "metadata": {
    "ExecuteTime": {
     "end_time": "2024-10-21T21:11:57.227067Z",
     "start_time": "2024-10-21T21:11:57.224955Z"
    }
   },
   "source": [],
   "outputs": [],
   "execution_count": null
  },
  {
   "cell_type": "code",
   "metadata": {
    "ExecuteTime": {
     "end_time": "2024-10-21T21:11:57.273337Z",
     "start_time": "2024-10-21T21:11:57.270768Z"
    }
   },
   "source": [],
   "outputs": [],
   "execution_count": null
  }
 ],
 "metadata": {
  "kernelspec": {
   "display_name": "Python 3 (ipykernel)",
   "language": "python",
   "name": "python3"
  },
  "language_info": {
   "codemirror_mode": {
    "name": "ipython",
    "version": 3
   },
   "file_extension": ".py",
   "mimetype": "text/x-python",
   "name": "python",
   "nbconvert_exporter": "python",
   "pygments_lexer": "ipython3",
   "version": "3.11.9"
  }
 },
 "nbformat": 4,
 "nbformat_minor": 2
}
