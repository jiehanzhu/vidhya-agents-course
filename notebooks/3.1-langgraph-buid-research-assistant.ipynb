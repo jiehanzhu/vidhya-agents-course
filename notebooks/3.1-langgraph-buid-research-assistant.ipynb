{
 "cells": [
  {
   "cell_type": "code",
   "metadata": {
    "jupyter": {
     "is_executing": true
    }
   },
   "source": [
    "from langgraph.graph import StateGraph, MessagesState, START, END\n",
    "from langchain_openai import ChatOpenAI\n",
    "from langgraph.prebuilt import ToolNode\n",
    "from langchain_community.tools import TavilySearchResults\n",
    "from IPython.display import Image\n",
    "from dotenv import load_dotenv\n",
    "\n",
    "load_dotenv()\n"
   ],
   "outputs": [],
   "execution_count": null
  },
  {
   "cell_type": "code",
   "metadata": {
    "jupyter": {
     "is_executing": true
    }
   },
   "source": [
    "llm = ChatOpenAI(model='gpt-4o-mini', temperature=0)"
   ],
   "outputs": [],
   "execution_count": null
  },
  {
   "cell_type": "code",
   "metadata": {},
   "source": [
    "def should_continue(state: MessagesState) -> bool:\n",
    "    messages = state['messages']\n",
    "    last_message = messages[-1]\n",
    "    if last_message.tool_calls:\n",
    "        return 'tools'\n",
    "    else:\n",
    "        return END\n",
    "\n"
   ],
   "outputs": [],
   "execution_count": null
  },
  {
   "cell_type": "code",
   "metadata": {},
   "source": [
    "def call_model(state: MessagesState):\n",
    "    messages  = state['messages']\n",
    "    response = llm.invoke(messages)\n",
    "    \n",
    "    return {'messages': messages + [response]}"
   ],
   "outputs": [],
   "execution_count": null
  },
  {
   "cell_type": "code",
   "metadata": {},
   "source": [
    "graph = StateGraph(MessagesState)"
   ],
   "outputs": [],
   "execution_count": null
  },
  {
   "cell_type": "code",
   "metadata": {},
   "source": [
    "graph.add_node('agent', call_model)"
   ],
   "outputs": [],
   "execution_count": null
  },
  {
   "cell_type": "code",
   "metadata": {},
   "source": [
    "# create and add search web tool\n",
    "\n",
    "search_tool = TavilySearchResults(max_results=5)\n",
    "\n",
    "tools = [search_tool]\n",
    "\n",
    "tool_node = ToolNode(tools)\n",
    "\n",
    "graph.add_node('tools', tool_node)"
   ],
   "outputs": [],
   "execution_count": null
  },
  {
   "cell_type": "code",
   "metadata": {},
   "source": [
    "# This means that the first node is the agent\n",
    "# similar to setting graph.set_entry_point('agent')\n",
    "graph.add_edge(START, \"agent\")"
   ],
   "outputs": [],
   "execution_count": null
  },
  {
   "cell_type": "code",
   "metadata": {},
   "source": [
    "graph.add_conditional_edges('agent', should_continue)"
   ],
   "outputs": [],
   "execution_count": null
  },
  {
   "cell_type": "code",
   "metadata": {},
   "source": [
    "graph.add_edge('tools', 'agent')"
   ],
   "outputs": [],
   "execution_count": null
  },
  {
   "cell_type": "code",
   "metadata": {},
   "source": [
    "graph_compiled = graph.compile()"
   ],
   "outputs": [],
   "execution_count": null
  },
  {
   "cell_type": "code",
   "metadata": {},
   "source": [
    "Image(graph_compiled.get_graph().draw_mermaid_png())"
   ],
   "outputs": [],
   "execution_count": null
  },
  {
   "cell_type": "code",
   "metadata": {},
   "source": [
    "output = graph_compiled.invoke({'messages': [\n",
    "    ('user', 'Write a simple report on how to use AI for productivity with reference for each section.')\n",
    "]})\n",
    "\n",
    "output"
   ],
   "outputs": [],
   "execution_count": null
  },
  {
   "cell_type": "code",
   "metadata": {
    "jupyter": {
     "is_executing": true
    }
   },
   "source": [
    "from IPython.display import Markdown\n",
    "\n",
    "Markdown(output['messages'][-1].content)"
   ],
   "outputs": [],
   "execution_count": null
  },
  {
   "cell_type": "code",
   "metadata": {
    "jupyter": {
     "is_executing": true
    }
   },
   "source": [
    "output = graph_compiled.invoke({'messages': [\n",
    "    ('user', \"\"\"\n",
    "    Write a comprehensive competitive market research report on US Homeowner insurance industry for the current month, October 2024.\n",
    "    Research on what each of the top 5 companies' activities in the industry, include their challenges, rate change actions, new product or coverages, innovation, and any other actions.\n",
    "    Add references for each section, and list all reference at the end of the reports.\n",
    "    \"\"\")\n",
    "]})\n",
    "Markdown(output['messages'][-1].content)"
   ],
   "outputs": [],
   "execution_count": null
  }
 ],
 "metadata": {
  "kernelspec": {
   "display_name": "Python 3 (ipykernel)",
   "language": "python",
   "name": "python3"
  },
  "language_info": {
   "codemirror_mode": {
    "name": "ipython",
    "version": 3
   },
   "file_extension": ".py",
   "mimetype": "text/x-python",
   "name": "python",
   "nbconvert_exporter": "python",
   "pygments_lexer": "ipython3",
   "version": "3.11.9"
  }
 },
 "nbformat": 4,
 "nbformat_minor": 2
}
