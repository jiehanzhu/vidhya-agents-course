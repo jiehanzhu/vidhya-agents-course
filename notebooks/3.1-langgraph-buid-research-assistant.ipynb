{
 "cells": [
  {
   "cell_type": "code",
   "metadata": {
    "ExecuteTime": {
     "end_time": "2024-10-21T21:39:46.824950Z",
     "start_time": "2024-10-21T21:39:46.096473Z"
    }
   },
   "source": [
    "from langgraph.graph import StateGraph, MessagesState, START, END\n",
    "from langchain_openai import ChatOpenAI\n",
    "from langgraph.prebuilt import ToolNode\n",
    "from langchain_community.tools import TavilySearchResults\n",
    "from IPython.display import Image\n",
    "from dotenv import load_dotenv\n",
    "\n",
    "load_dotenv()\n"
   ],
   "outputs": [
    {
     "data": {
      "text/plain": [
       "True"
      ]
     },
     "execution_count": 1,
     "metadata": {},
     "output_type": "execute_result"
    }
   ],
   "execution_count": 1
  },
  {
   "cell_type": "code",
   "metadata": {
    "ExecuteTime": {
     "end_time": "2024-10-21T21:39:46.959460Z",
     "start_time": "2024-10-21T21:39:46.913035Z"
    }
   },
   "source": [
    "llm = ChatOpenAI(model='gpt-4o-mini', temperature=0)"
   ],
   "outputs": [],
   "execution_count": 2
  },
  {
   "cell_type": "code",
   "metadata": {
    "ExecuteTime": {
     "end_time": "2024-10-21T21:39:46.965072Z",
     "start_time": "2024-10-21T21:39:46.962569Z"
    }
   },
   "source": [
    "def should_continue(state: MessagesState) -> bool:\n",
    "    messages = state['messages']\n",
    "    last_message = messages[-1]\n",
    "    if last_message.tool_calls:\n",
    "        return 'tools'\n",
    "    else:\n",
    "        return END\n",
    "\n"
   ],
   "outputs": [],
   "execution_count": 3
  },
  {
   "cell_type": "code",
   "metadata": {
    "ExecuteTime": {
     "end_time": "2024-10-21T21:39:47.008978Z",
     "start_time": "2024-10-21T21:39:47.006667Z"
    }
   },
   "source": [
    "def call_model(state: MessagesState):\n",
    "    messages  = state['messages']\n",
    "    response = llm.invoke(messages)\n",
    "    \n",
    "    return {'messages': messages + [response]}"
   ],
   "outputs": [],
   "execution_count": 4
  },
  {
   "cell_type": "code",
   "metadata": {
    "ExecuteTime": {
     "end_time": "2024-10-21T21:39:47.054028Z",
     "start_time": "2024-10-21T21:39:47.051884Z"
    }
   },
   "source": [
    "graph = StateGraph(MessagesState)"
   ],
   "outputs": [],
   "execution_count": 5
  },
  {
   "cell_type": "code",
   "metadata": {
    "ExecuteTime": {
     "end_time": "2024-10-21T21:39:47.099966Z",
     "start_time": "2024-10-21T21:39:47.097117Z"
    }
   },
   "source": [
    "graph.add_node('agent', call_model)"
   ],
   "outputs": [],
   "execution_count": 6
  },
  {
   "cell_type": "code",
   "metadata": {
    "ExecuteTime": {
     "end_time": "2024-10-21T21:39:47.146388Z",
     "start_time": "2024-10-21T21:39:47.143478Z"
    }
   },
   "source": [
    "# create and add search web tool\n",
    "\n",
    "search_tool = TavilySearchResults(max_results=5)\n",
    "\n",
    "tools = [search_tool]\n",
    "\n",
    "tool_node = ToolNode(tools)\n",
    "\n",
    "graph.add_node('tools', tool_node)"
   ],
   "outputs": [],
   "execution_count": 7
  },
  {
   "cell_type": "code",
   "metadata": {
    "ExecuteTime": {
     "end_time": "2024-10-21T21:39:47.191448Z",
     "start_time": "2024-10-21T21:39:47.188973Z"
    }
   },
   "source": [
    "# This means that the first node is the agent\n",
    "# similar to setting graph.set_entry_point('agent')\n",
    "graph.add_edge(START, \"agent\")"
   ],
   "outputs": [],
   "execution_count": 8
  },
  {
   "cell_type": "code",
   "metadata": {
    "ExecuteTime": {
     "end_time": "2024-10-21T21:39:47.236985Z",
     "start_time": "2024-10-21T21:39:47.234212Z"
    }
   },
   "source": [
    "graph.add_conditional_edges('agent', should_continue)"
   ],
   "outputs": [],
   "execution_count": 9
  },
  {
   "cell_type": "code",
   "metadata": {
    "ExecuteTime": {
     "end_time": "2024-10-21T21:39:47.282433Z",
     "start_time": "2024-10-21T21:39:47.279928Z"
    }
   },
   "source": [
    "graph.add_edge('tools', 'agent')"
   ],
   "outputs": [],
   "execution_count": 10
  },
  {
   "cell_type": "code",
   "metadata": {
    "ExecuteTime": {
     "end_time": "2024-10-21T21:39:47.328552Z",
     "start_time": "2024-10-21T21:39:47.325039Z"
    }
   },
   "source": [
    "graph_compiled = graph.compile()"
   ],
   "outputs": [],
   "execution_count": 11
  },
  {
   "cell_type": "code",
   "metadata": {
    "ExecuteTime": {
     "end_time": "2024-10-21T21:39:47.466849Z",
     "start_time": "2024-10-21T21:39:47.375932Z"
    }
   },
   "source": [
    "Image(graph_compiled.get_graph().draw_mermaid_png())"
   ],
   "outputs": [
    {
     "data": {
      "image/jpeg": "[encoded data removed]",
      "text/plain": [
       "<IPython.core.display.Image object>"
      ]
     },
     "execution_count": 12,
     "metadata": {},
     "output_type": "execute_result"
    }
   ],
   "execution_count": 12
  },
  {
   "cell_type": "code",
   "metadata": {
    "ExecuteTime": {
     "end_time": "2024-10-21T21:41:37.219022Z",
     "start_time": "2024-10-21T21:41:27.268917Z"
    }
   },
   "source": [
    "output = graph_compiled.invoke({'messages': [\n",
    "    ('user', 'Write a simple report on how to use AI for productivity with reference for each section.')\n",
    "]})\n",
    "\n",
    "output"
   ],
   "outputs": [
    {
     "data": {
      "text/plain": [
       "{'messages': [HumanMessage(content='Write a simple report on how to use AI for productivity with reference for each section.', id='a0e3b612-e235-4cfe-9b5d-5c1e1eda061d'),\n",
       "  AIMessage(content='# Report on Using AI for Productivity\\n\\n## Introduction\\nArtificial Intelligence (AI) has become an integral part of modern workplaces, enhancing productivity across various sectors. This report outlines how AI can be utilized to improve productivity, focusing on automation, data analysis, communication, and decision-making.\\n\\n## 1. Automation of Repetitive Tasks\\nAI can automate mundane and repetitive tasks, allowing employees to focus on more strategic activities. Tools like robotic process automation (RPA) can handle tasks such as data entry, invoice processing, and scheduling.\\n\\n### Reference:\\n- *Davenport, T. H., & Ronanki, R. (2018). \"Artificial Intelligence for the Real World.\" Harvard Business Review.* This article discusses how organizations can implement AI to automate routine tasks, leading to increased efficiency.\\n\\n## 2. Enhanced Data Analysis\\nAI algorithms can analyze vast amounts of data quickly and accurately, providing insights that can inform business decisions. Machine learning models can identify trends and patterns that may not be immediately apparent to human analysts.\\n\\n### Reference:\\n- *Marr, B. (2018). \"Data Strategy: How to Profit from a World of Big Data, Analytics and the Internet of Things.\" Kogan Page.* This book explains how businesses can leverage AI for data analysis to drive productivity and strategic decision-making.\\n\\n## 3. Improved Communication\\nAI-powered tools, such as chatbots and virtual assistants, can enhance communication within teams and with customers. These tools can handle inquiries, schedule meetings, and provide instant responses, reducing the workload on human employees.\\n\\n### Reference:\\n- *Gnewuch, U., Morana, S., & Maedche, A. (2017). \"Towards Human-AI Collaboration in Customer Service: A Systematic Literature Review.\" Proceedings of the 38th International Conference on Information Systems (ICIS).* This paper reviews the impact of AI on communication and customer service, highlighting productivity gains.\\n\\n## 4. Data-Driven Decision Making\\nAI can support decision-making processes by providing predictive analytics and recommendations based on historical data. This allows organizations to make informed decisions quickly, reducing the time spent on analysis.\\n\\n### Reference:\\n- *Davenport, T. H. (2019). \"The AI Advantage: How to Put the Artificial Intelligence Revolution to Work.\" MIT Press.* This book discusses how AI can enhance decision-making processes in organizations, leading to improved productivity.\\n\\n## 5. Personalized Learning and Development\\nAI can tailor training programs to individual employee needs, enhancing skill development and productivity. By analyzing performance data, AI can recommend specific training resources and learning paths.\\n\\n### Reference:\\n- *Baker, R. S., & Inventado, P. S. (2014). \"Educational Data Mining and Learning Analytics.\" In Learning, Design, and Technology: An International Compendium of Theory, Research, Practice, and Policy.* This chapter discusses how AI can personalize learning experiences, contributing to employee productivity.\\n\\n## Conclusion\\nThe integration of AI into workplace processes can significantly enhance productivity by automating tasks, improving data analysis, facilitating communication, supporting decision-making, and personalizing learning. Organizations that leverage these AI capabilities are likely to see substantial improvements in efficiency and effectiveness.\\n\\n## References\\n1. Davenport, T. H., & Ronanki, R. (2018). \"Artificial Intelligence for the Real World.\" Harvard Business Review.\\n2. Marr, B. (2018). \"Data Strategy: How to Profit from a World of Big Data, Analytics and the Internet of Things.\" Kogan Page.\\n3. Gnewuch, U., Morana, S., & Maedche, A. (2017). \"Towards Human-AI Collaboration in Customer Service: A Systematic Literature Review.\" Proceedings of the 38th International Conference on Information Systems (ICIS).\\n4. Davenport, T. H. (2019). \"The AI Advantage: How to Put the Artificial Intelligence Revolution to Work.\" MIT Press.\\n5. Baker, R. S., & Inventado, P. S. (2014). \"Educational Data Mining and Learning Analytics.\" In Learning, Design, and Technology: An International Compendium of Theory, Research, Practice, and Policy.', additional_kwargs={'refusal': None}, response_metadata={'token_usage': {'completion_tokens': 846, 'prompt_tokens': 24, 'total_tokens': 870, 'prompt_tokens_details': {'cached_tokens': 0}, 'completion_tokens_details': {'reasoning_tokens': 0}}, 'model_name': 'gpt-4o-mini-2024-07-18', 'system_fingerprint': 'fp_7693ae462b', 'finish_reason': 'stop', 'logprobs': None}, id='run-b689212e-ca78-49d1-99e0-b8414c9eb22c-0', usage_metadata={'input_tokens': 24, 'output_tokens': 846, 'total_tokens': 870})]}"
      ]
     },
     "execution_count": 15,
     "metadata": {},
     "output_type": "execute_result"
    }
   ],
   "execution_count": 15
  },
  {
   "cell_type": "code",
   "metadata": {
    "ExecuteTime": {
     "end_time": "2024-10-21T21:41:37.292686Z",
     "start_time": "2024-10-21T21:41:37.288744Z"
    }
   },
   "source": [
    "from IPython.display import Markdown\n",
    "\n",
    "Markdown(output['messages'][-1].content)"
   ],
   "outputs": [
    {
     "data": {
      "text/plain": [
       "<IPython.core.display.Markdown object>"
      ],
      "text/markdown": "# Report on Using AI for Productivity\n\n## Introduction\nArtificial Intelligence (AI) has become an integral part of modern workplaces, enhancing productivity across various sectors. This report outlines how AI can be utilized to improve productivity, focusing on automation, data analysis, communication, and decision-making.\n\n## 1. Automation of Repetitive Tasks\nAI can automate mundane and repetitive tasks, allowing employees to focus on more strategic activities. Tools like robotic process automation (RPA) can handle tasks such as data entry, invoice processing, and scheduling.\n\n### Reference:\n- *Davenport, T. H., & Ronanki, R. (2018). \"Artificial Intelligence for the Real World.\" Harvard Business Review.* This article discusses how organizations can implement AI to automate routine tasks, leading to increased efficiency.\n\n## 2. Enhanced Data Analysis\nAI algorithms can analyze vast amounts of data quickly and accurately, providing insights that can inform business decisions. Machine learning models can identify trends and patterns that may not be immediately apparent to human analysts.\n\n### Reference:\n- *Marr, B. (2018). \"Data Strategy: How to Profit from a World of Big Data, Analytics and the Internet of Things.\" Kogan Page.* This book explains how businesses can leverage AI for data analysis to drive productivity and strategic decision-making.\n\n## 3. Improved Communication\nAI-powered tools, such as chatbots and virtual assistants, can enhance communication within teams and with customers. These tools can handle inquiries, schedule meetings, and provide instant responses, reducing the workload on human employees.\n\n### Reference:\n- *Gnewuch, U., Morana, S., & Maedche, A. (2017). \"Towards Human-AI Collaboration in Customer Service: A Systematic Literature Review.\" Proceedings of the 38th International Conference on Information Systems (ICIS).* This paper reviews the impact of AI on communication and customer service, highlighting productivity gains.\n\n## 4. Data-Driven Decision Making\nAI can support decision-making processes by providing predictive analytics and recommendations based on historical data. This allows organizations to make informed decisions quickly, reducing the time spent on analysis.\n\n### Reference:\n- *Davenport, T. H. (2019). \"The AI Advantage: How to Put the Artificial Intelligence Revolution to Work.\" MIT Press.* This book discusses how AI can enhance decision-making processes in organizations, leading to improved productivity.\n\n## 5. Personalized Learning and Development\nAI can tailor training programs to individual employee needs, enhancing skill development and productivity. By analyzing performance data, AI can recommend specific training resources and learning paths.\n\n### Reference:\n- *Baker, R. S., & Inventado, P. S. (2014). \"Educational Data Mining and Learning Analytics.\" In Learning, Design, and Technology: An International Compendium of Theory, Research, Practice, and Policy.* This chapter discusses how AI can personalize learning experiences, contributing to employee productivity.\n\n## Conclusion\nThe integration of AI into workplace processes can significantly enhance productivity by automating tasks, improving data analysis, facilitating communication, supporting decision-making, and personalizing learning. Organizations that leverage these AI capabilities are likely to see substantial improvements in efficiency and effectiveness.\n\n## References\n1. Davenport, T. H., & Ronanki, R. (2018). \"Artificial Intelligence for the Real World.\" Harvard Business Review.\n2. Marr, B. (2018). \"Data Strategy: How to Profit from a World of Big Data, Analytics and the Internet of Things.\" Kogan Page.\n3. Gnewuch, U., Morana, S., & Maedche, A. (2017). \"Towards Human-AI Collaboration in Customer Service: A Systematic Literature Review.\" Proceedings of the 38th International Conference on Information Systems (ICIS).\n4. Davenport, T. H. (2019). \"The AI Advantage: How to Put the Artificial Intelligence Revolution to Work.\" MIT Press.\n5. Baker, R. S., & Inventado, P. S. (2014). \"Educational Data Mining and Learning Analytics.\" In Learning, Design, and Technology: An International Compendium of Theory, Research, Practice, and Policy."
     },
     "execution_count": 16,
     "metadata": {},
     "output_type": "execute_result"
    }
   ],
   "execution_count": 16
  },
  {
   "cell_type": "code",
   "execution_count": null,
   "metadata": {},
   "outputs": [],
   "source": []
  }
 ],
 "metadata": {
  "kernelspec": {
   "display_name": "Python 3 (ipykernel)",
   "language": "python",
   "name": "python3"
  },
  "language_info": {
   "codemirror_mode": {
    "name": "ipython",
    "version": 3
   },
   "file_extension": ".py",
   "mimetype": "text/x-python",
   "name": "python",
   "nbconvert_exporter": "python",
   "pygments_lexer": "ipython3",
   "version": "3.11.9"
  }
 },
 "nbformat": 4,
 "nbformat_minor": 2
}
